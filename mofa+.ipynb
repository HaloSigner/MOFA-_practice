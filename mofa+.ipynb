{
  "nbformat": 4,
  "nbformat_minor": 0,
  "metadata": {
    "colab": {
      "private_outputs": true,
      "provenance": [],
      "gpuType": "T4",
      "authorship_tag": "ABX9TyNOhMDrWrKvpkDkYMbRKyg0",
      "include_colab_link": true
    },
    "kernelspec": {
      "name": "python3",
      "display_name": "Python 3"
    },
    "language_info": {
      "name": "python"
    },
    "accelerator": "GPU"
  },
  "cells": [
    {
      "cell_type": "markdown",
      "metadata": {
        "id": "view-in-github",
        "colab_type": "text"
      },
      "source": [
        "<a href=\"https://colab.research.google.com/github/HaloSigner/MOFA-_practice/blob/main/mofa%2B.ipynb\" target=\"_parent\"><img src=\"https://colab.research.google.com/assets/colab-badge.svg\" alt=\"Open In Colab\"/></a>"
      ]
    },
    {
      "cell_type": "code",
      "source": [
        "import scanpy as sc\n",
        "import muon as mu\n",
        "import mofax as mofa\n",
        "import numpy as np\n",
        "import pandas as pd"
      ],
      "metadata": {
        "id": "9Ecmw_dNL6hY"
      },
      "execution_count": null,
      "outputs": []
    },
    {
      "cell_type": "code",
      "source": [
        "import os"
      ],
      "metadata": {
        "id": "FOoWoG8cMa0X"
      },
      "execution_count": null,
      "outputs": []
    },
    {
      "cell_type": "code",
      "source": [
        "obs = pd.read_csv('CLL_metadata.tsv', sep='\\t', index_col='sample')\n",
        "obs"
      ],
      "metadata": {
        "id": "Z0y9NBU6MGGr"
      },
      "execution_count": null,
      "outputs": []
    },
    {
      "cell_type": "code",
      "source": [
        "mods = {i:sc.AnnData(pd.read_csv(f'{i}.csv', index_col=0).T) for i in ('Drugs', 'Methylation', 'mRNA', 'Mutations')}\n",
        "mods"
      ],
      "metadata": {
        "id": "AJAebpjrMrRs"
      },
      "execution_count": null,
      "outputs": []
    },
    {
      "cell_type": "code",
      "source": [
        "for i in ['Drugs', 'Methylation', 'mRNA', 'Mutations']:\n",
        "    i = pd.read_csv(f'{i}.csv')\n",
        "    display(i)"
      ],
      "metadata": {
        "id": "V35AVMfvQWST"
      },
      "execution_count": null,
      "outputs": []
    },
    {
      "cell_type": "code",
      "source": [
        "mdata=mu.MuData(mods)\n",
        "mu.set_options(pull_on_update=False)\n",
        "\n",
        "mdata.obs = mdata.obs.join(obs)"
      ],
      "metadata": {
        "id": "D4qjmirRNItW"
      },
      "execution_count": null,
      "outputs": []
    },
    {
      "cell_type": "code",
      "source": [
        "mdata"
      ],
      "metadata": {
        "id": "GyXv93OhNaEe"
      },
      "execution_count": null,
      "outputs": []
    },
    {
      "cell_type": "markdown",
      "source": [
        "# Integrate data #\n",
        "\n",
        "In case some samples are missing from some of the modalities, as they are in this CLL dataset, muon cna be instructed to handle it. One of two modes has to be chosen for that:\n",
        "\n",
        "1. use_obs='union', which will populate values for missing samples in certain modalities with NAs, or\n",
        "2. use_obs='intersection', which will use a subset of samples that are present in all modalities\n"
      ],
      "metadata": {
        "id": "c0dFsd_fNec3"
      }
    },
    {
      "cell_type": "code",
      "source": [
        "mu.tl.mofa(mdata, use_obs='union',\n",
        "           n_factors=10, convergence_mode='medium',\n",
        "           outfile='models/CLL_union.hdf5')"
      ],
      "metadata": {
        "id": "IHoBiDmQOCS9"
      },
      "execution_count": null,
      "outputs": []
    },
    {
      "cell_type": "code",
      "source": [
        "mdata.obs['IGHV_status'] = mdata.obs['IGHV'].astype(str).astype('category').cat.rename_categories({\"1.0\": \"mutated\", \"0.0\": \"unmutated\"})\n",
        "mu.pl.mofa(mdata, color='IGHV_status')"
      ],
      "metadata": {
        "id": "w9HI0NAkOTht"
      },
      "execution_count": null,
      "outputs": []
    },
    {
      "cell_type": "code",
      "source": [
        "mdata.obs['trisomy12_status'] = mdata.obs['trisomy12'].astype(str).astype(\"category\").cat.rename_categories({\"1.0\": \"mutated\", \"0.0\": \"unmutated\"})\n",
        "mu.pl.mofa(mdata, color=\"trisomy12_status\")"
      ],
      "metadata": {
        "id": "XJ671i-hPgHg"
      },
      "execution_count": null,
      "outputs": []
    },
    {
      "cell_type": "code",
      "source": [
        "model = mofa.mofa_model('models/CLL_union.hdf5')\n",
        "model"
      ],
      "metadata": {
        "id": "iyWKhvLGPsxG"
      },
      "execution_count": null,
      "outputs": []
    },
    {
      "cell_type": "code",
      "source": [
        "mofa.plot_r2(model, x='View', vmax=10)"
      ],
      "metadata": {
        "id": "9IM_cGcXQEtt"
      },
      "execution_count": null,
      "outputs": []
    },
    {
      "cell_type": "code",
      "source": [
        "mofa.plot_weights_correlation(model)"
      ],
      "metadata": {
        "id": "3URSD8kNQMZ_"
      },
      "execution_count": null,
      "outputs": []
    },
    {
      "cell_type": "code",
      "source": [
        "ax = mofa.plot_weights(model, n_features=10,\n",
        "                       y_repel_coef=0.04, x_rank_offset=-150)"
      ],
      "metadata": {
        "id": "1KqkmjIqROvs"
      },
      "execution_count": null,
      "outputs": []
    },
    {
      "cell_type": "code",
      "source": [
        "mofa.plot_weights_heatmap(model, n_features=5, factors=range(0,10), w_abs=True, cmap='viridis', cluster_factors=False, view=['Mutations'])"
      ],
      "metadata": {
        "id": "bqsJvH0ARYxU"
      },
      "execution_count": null,
      "outputs": []
    },
    {
      "cell_type": "code",
      "source": [
        "mofa.plot_weights_scatter(model, x=\"Factor1\", y=\"Factor2\",view=[\"Drugs\"],\n",
        "                         hist=True, n_features=20)"
      ],
      "metadata": {
        "id": "24649SkWSPJg"
      },
      "execution_count": null,
      "outputs": []
    },
    {
      "cell_type": "code",
      "source": [
        "mofa.plot_weights(model, views=['mRNA'], factors=0, zero_line=True, ncols=2, label_size=10)"
      ],
      "metadata": {
        "id": "bsrH66gQTCWX"
      },
      "execution_count": null,
      "outputs": []
    },
    {
      "cell_type": "code",
      "source": [
        "mofa.plot_weights(model, views=[ 'Mutations'], factors=0, zero_line=True, ncols=2, label_size=10)"
      ],
      "metadata": {
        "id": "sFIgm06pTbJ6"
      },
      "execution_count": null,
      "outputs": []
    },
    {
      "cell_type": "code",
      "source": [
        "mofa.plot_weights(model, views=['Drugs'], factors=0, label_size=10)"
      ],
      "metadata": {
        "id": "N40yHREjT2ni"
      },
      "execution_count": null,
      "outputs": []
    },
    {
      "cell_type": "code",
      "source": [
        "mofa.plot_weights_heatmap(model, n_features=25,  factors=0, w_abs=True, cmap='viridis', cluster_factors  = False, view=[\"mRNA\"])"
      ],
      "metadata": {
        "id": "7AakgTujT6wV"
      },
      "execution_count": null,
      "outputs": []
    }
  ]
}